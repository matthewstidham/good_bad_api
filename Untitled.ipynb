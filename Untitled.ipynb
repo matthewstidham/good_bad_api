{
 "cells": [
  {
   "cell_type": "code",
   "execution_count": 2,
   "id": "a680e823",
   "metadata": {},
   "outputs": [],
   "source": [
    "import json\n",
    "\n",
    "d = json.load(open('bad_api.json'))\n",
    "entries = d['entries']"
   ]
  },
  {
   "cell_type": "code",
   "execution_count": 3,
   "id": "29a76e85",
   "metadata": {},
   "outputs": [
    {
     "data": {
      "text/plain": [
       "[[{'book': 'The Hobbit'}, {'author': 'J.R.R. Tolkien'}],\n",
       " [{'book': 'Dune'}, {'author': 'Frank Herbert'}]]"
      ]
     },
     "execution_count": 3,
     "metadata": {},
     "output_type": "execute_result"
    }
   ],
   "source": [
    "entries"
   ]
  },
  {
   "cell_type": "code",
   "execution_count": 4,
   "id": "a2bdd753",
   "metadata": {},
   "outputs": [
    {
     "data": {
      "text/plain": [
       "[{'book': 'The Hobbit'}, {'author': 'J.R.R. Tolkien'}]"
      ]
     },
     "execution_count": 4,
     "metadata": {},
     "output_type": "execute_result"
    }
   ],
   "source": [
    "entries[0]"
   ]
  },
  {
   "cell_type": "code",
   "execution_count": 5,
   "id": "88e53a67",
   "metadata": {},
   "outputs": [],
   "source": [
    "from collections import ChainMap"
   ]
  },
  {
   "cell_type": "code",
   "execution_count": 13,
   "id": "0dc56be2",
   "metadata": {},
   "outputs": [
    {
     "data": {
      "text/plain": [
       "{'author': 'J.R.R. Tolkien', 'book': 'The Hobbit'}"
      ]
     },
     "execution_count": 13,
     "metadata": {},
     "output_type": "execute_result"
    }
   ],
   "source": [
    "dict(ChainMap(*entries[0]))"
   ]
  },
  {
   "cell_type": "code",
   "execution_count": 46,
   "id": "14651752",
   "metadata": {},
   "outputs": [
    {
     "data": {
      "text/plain": [
       "{'book': 'The Hobbit', 'author': 'J.R.R. Tolkien'}"
      ]
     },
     "execution_count": 46,
     "metadata": {},
     "output_type": "execute_result"
    }
   ],
   "source": [
    "result = dict()\n",
    "for d in entries[0]:\n",
    "    if list(d.keys())[0] in result.keys():\n",
    "        if type(result[d]) == list:\n",
    "            result[d].append(result[d])\n",
    "        else:\n",
    "            result[d].update([result[d]+entries[0][d]])\n",
    "    else:\n",
    "        result.update(d)\n",
    "result"
   ]
  },
  {
   "cell_type": "code",
   "execution_count": 26,
   "id": "f14d041c",
   "metadata": {},
   "outputs": [
    {
     "data": {
      "text/plain": [
       "{'book': 'The Hobbit', 'author': 'J.R.R. Tolkien'}"
      ]
     },
     "execution_count": 26,
     "metadata": {},
     "output_type": "execute_result"
    }
   ],
   "source": [
    "result"
   ]
  },
  {
   "cell_type": "code",
   "execution_count": 27,
   "id": "2fa5ee70",
   "metadata": {},
   "outputs": [
    {
     "data": {
      "text/plain": [
       "[{'book': 'The Hobbit'}, {'author': 'J.R.R. Tolkien'}]"
      ]
     },
     "execution_count": 27,
     "metadata": {},
     "output_type": "execute_result"
    }
   ],
   "source": [
    "entries[0]"
   ]
  },
  {
   "cell_type": "code",
   "execution_count": 41,
   "id": "77f6b72f",
   "metadata": {},
   "outputs": [
    {
     "data": {
      "text/plain": [
       "[{'book': 'The Hobbit'}, {'author': 'J.R.R. Tolkien'}, {'author': 'Tolkien'}]"
      ]
     },
     "execution_count": 41,
     "metadata": {},
     "output_type": "execute_result"
    }
   ],
   "source": [
    "new = entries[0] + [{'author':'Tolkien'}]\n",
    "new"
   ]
  },
  {
   "cell_type": "code",
   "execution_count": 69,
   "id": "1f92c59d",
   "metadata": {},
   "outputs": [],
   "source": [
    "def dict_merger(entries):\n",
    "    result = dict()\n",
    "    for entry in entries:\n",
    "        for d in entry:\n",
    "            if d in result.keys():\n",
    "                if type(result[d]) == list:\n",
    "                    result[d].append(result[d])\n",
    "                else:\n",
    "                    result[d] = [result[d]]+[entry[d]]\n",
    "            else:\n",
    "                result[d] = entry[d]\n",
    "    return result"
   ]
  },
  {
   "cell_type": "code",
   "execution_count": 62,
   "id": "d60016ea",
   "metadata": {},
   "outputs": [
    {
     "name": "stdout",
     "output_type": "stream",
     "text": [
      "{'book': 'The Hobbit'}\n",
      "{'author': 'J.R.R. Tolkien'}\n",
      "{'author': 'Tolkien'}\n"
     ]
    },
    {
     "data": {
      "text/plain": [
       "{'book': 'The Hobbit', 'author': ['J.R.R. Tolkien', 'Tolkien']}"
      ]
     },
     "execution_count": 62,
     "metadata": {},
     "output_type": "execute_result"
    }
   ],
   "source": [
    "dict_merger(new)"
   ]
  },
  {
   "cell_type": "code",
   "execution_count": 33,
   "id": "43b070b5",
   "metadata": {},
   "outputs": [
    {
     "data": {
      "text/plain": [
       "[{'book': 'The Hobbit'}, {'author': 'J.R.R. Tolkien'}, {'author': 'Tolkien'}]"
      ]
     },
     "execution_count": 33,
     "metadata": {},
     "output_type": "execute_result"
    }
   ],
   "source": [
    "new"
   ]
  },
  {
   "cell_type": "code",
   "execution_count": 63,
   "id": "4e684295",
   "metadata": {},
   "outputs": [],
   "source": [
    "gross = {\n",
    "\"entries\":[\n",
    "\t[{\"book\":\"The Hobbit\"},{\"author\":\"J.R.R. Tolkien\"}],\n",
    "\t[{\"book\":\"Dune\"},{\"author\":\"Frank Herbert\"}]\n",
    "]\n",
    "}\n"
   ]
  },
  {
   "cell_type": "code",
   "execution_count": 70,
   "id": "693fbd09",
   "metadata": {},
   "outputs": [
    {
     "name": "stdout",
     "output_type": "stream",
     "text": [
      "{'book': 'The Hobbit', 'author': 'J.R.R. Tolkien'}\n",
      "{'book': 'Dune', 'author': 'Frank Herbert'}\n"
     ]
    }
   ],
   "source": [
    "for article in gross['entries']:\n",
    "    print(dict_merger(article))"
   ]
  },
  {
   "cell_type": "code",
   "execution_count": null,
   "id": "dc43d279",
   "metadata": {},
   "outputs": [],
   "source": []
  }
 ],
 "metadata": {
  "kernelspec": {
   "display_name": "Python 3 (ipykernel)",
   "language": "python",
   "name": "python3"
  },
  "language_info": {
   "codemirror_mode": {
    "name": "ipython",
    "version": 3
   },
   "file_extension": ".py",
   "mimetype": "text/x-python",
   "name": "python",
   "nbconvert_exporter": "python",
   "pygments_lexer": "ipython3",
   "version": "3.10.0"
  }
 },
 "nbformat": 4,
 "nbformat_minor": 5
}
